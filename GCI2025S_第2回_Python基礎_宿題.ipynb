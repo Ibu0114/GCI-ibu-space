{
  "cells": [
    {
      "cell_type": "markdown",
      "metadata": {
        "id": "view-in-github",
        "colab_type": "text"
      },
      "source": [
        "<a href=\"https://colab.research.google.com/github/Ibu0114/GCI-ibu-space/blob/main/GCI2025S_%E7%AC%AC2%E5%9B%9E_Python%E5%9F%BA%E7%A4%8E_%E5%AE%BF%E9%A1%8C.ipynb\" target=\"_parent\"><img src=\"https://colab.research.google.com/assets/colab-badge.svg\" alt=\"Open In Colab\"/></a>"
      ]
    },
    {
      "cell_type": "markdown",
      "metadata": {
        "id": "93cl9JWr_5nm"
      },
      "source": [
        "## 問題文\n",
        "ある箱のwidth(幅)、depth(奥行き)、height(高さ)を引数として、その箱の体積が1000以上であればTrue, 1000未満であればFalseを出力する関数を実装してください。単位は全て省略とします。\n",
        "\n",
        "以下が想定される出力です\n",
        "\n",
        "```python\n",
        "width = 10\n",
        "depth = 20\n",
        "height = 35\n",
        "print(homework(width, depth, height))\n",
        "\n",
        "---------\n",
        "True\n",
        "```\n",
        "\n",
        "提出するときは、以下の点に注意してください。適宜例題(次のセクションにあります)を参考にしてください。Omnicampusには例題の回答を提出する欄はありません。\n",
        ">- 以下の関数`homework`の`!!WRITE ME!!`に処理を書いてください。(**「`!!WRITE ME!!`」は消して、記入してください。**)\n",
        ">- 実際の提出は記述された`homework`関数全てになり、**提出はOmnicampus内の宿題の欄から今週の課題を選択後、提出内容に関数を貼り付けてから[Pythonコード提出]を押してください。**\n",
        ">- 関数は1つにまとめてください。"
      ]
    },
    {
      "cell_type": "code",
      "execution_count": 1,
      "metadata": {
        "id": "thHL7HyXBXvS"
      },
      "outputs": [],
      "source": [
        "# !!WRITE ME!!に処理を記入する（このセルのhomework関数のみを提出することに注意）\n",
        "def homework(width, depth, height):\n",
        "\n",
        "\n",
        "    vol = width * depth * height\n",
        "\n",
        "    if vol >= 1000:\n",
        "      my_result = True\n",
        "    else:\n",
        "      my_result = False\n",
        "\n",
        "    return my_result"
      ]
    },
    {
      "cell_type": "code",
      "source": [
        "# homework関数の動作確認をします（このコードは提出しません）\n",
        "width = 10\n",
        "depth = 20\n",
        "height = 35\n",
        "print(homework(width, depth, height))"
      ],
      "metadata": {
        "colab": {
          "base_uri": "https://localhost:8080/"
        },
        "id": "Nk2WvS3aE8QA",
        "outputId": "931ed9ad-5a49-4ec4-e7fd-4ab01d606791"
      },
      "execution_count": 2,
      "outputs": [
        {
          "output_type": "stream",
          "name": "stdout",
          "text": [
            "True\n"
          ]
        }
      ]
    },
    {
      "cell_type": "code",
      "source": [
        "# homework関数の動作確認をします（このコードは提出しません）\n",
        "width = 10\n",
        "depth = 10\n",
        "height = 9\n",
        "print(homework(width, depth, height))"
      ],
      "metadata": {
        "colab": {
          "base_uri": "https://localhost:8080/"
        },
        "id": "cO5VE-peExXR",
        "outputId": "82279d4d-6a05-4f4b-c6bd-957344056b3d"
      },
      "execution_count": 3,
      "outputs": [
        {
          "output_type": "stream",
          "name": "stdout",
          "text": [
            "False\n"
          ]
        }
      ]
    }
  ],
  "metadata": {
    "colab": {
      "provenance": [],
      "include_colab_link": true
    },
    "kernelspec": {
      "display_name": "Python 3",
      "name": "python3"
    },
    "language_info": {
      "codemirror_mode": {
        "name": "ipython",
        "version": 3
      },
      "file_extension": ".py",
      "mimetype": "text/x-python",
      "name": "python",
      "nbconvert_exporter": "python",
      "pygments_lexer": "ipython3",
      "version": "3.8.5"
    }
  },
  "nbformat": 4,
  "nbformat_minor": 0
}