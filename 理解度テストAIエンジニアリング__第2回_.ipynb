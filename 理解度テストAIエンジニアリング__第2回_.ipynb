{
  "nbformat": 4,
  "nbformat_minor": 0,
  "metadata": {
    "kernelspec": {
      "display_name": "Python 3",
      "language": "python",
      "name": "python3"
    },
    "language_info": {
      "codemirror_mode": {
        "name": "ipython",
        "version": 3
      },
      "file_extension": ".py",
      "mimetype": "text/x-python",
      "name": "python",
      "nbconvert_exporter": "python",
      "pygments_lexer": "ipython3",
      "version": "3.7.4"
    },
    "colab": {
      "provenance": [],
      "include_colab_link": true
    }
  },
  "cells": [
    {
      "cell_type": "markdown",
      "metadata": {
        "id": "view-in-github",
        "colab_type": "text"
      },
      "source": [
        "<a href=\"https://colab.research.google.com/github/Ibu0114/GCI-ibu-space/blob/main/%E7%90%86%E8%A7%A3%E5%BA%A6%E3%83%86%E3%82%B9%E3%83%88AI%E3%82%A8%E3%83%B3%E3%82%B8%E3%83%8B%E3%82%A2%E3%83%AA%E3%83%B3%E3%82%B0__%E7%AC%AC2%E5%9B%9E_.ipynb\" target=\"_parent\"><img src=\"https://colab.research.google.com/assets/colab-badge.svg\" alt=\"Open In Colab\"/></a>"
      ]
    },
    {
      "cell_type": "markdown",
      "metadata": {
        "id": "TzJTZtvE8Pyi"
      },
      "source": [
        "#AIエンジニアリング_第◯回宿題"
      ]
    },
    {
      "cell_type": "markdown",
      "metadata": {
        "id": "WEjo789q8Pyo"
      },
      "source": [
        "## 課題\n",
        "今回の課題は確認クイズです。\n",
        "\n",
        "上から回答していくと提出用csvファイル `submission_pred.csv`が作成されます。\n",
        "提出期限までにOmnicampusに提出してください。\n",
        "\n",
        "**採点は締め切り後に一回だけ行われます**\n",
        "（**即時採点ではありません。**）"
      ]
    },
    {
      "cell_type": "markdown",
      "metadata": {
        "id": "-Rsy-_mn8Pyp"
      },
      "source": [
        "この部分は修正しないでください"
      ]
    },
    {
      "cell_type": "code",
      "metadata": {
        "id": "D1YEKFg_8Pyq"
      },
      "source": [
        "import numpy as np\n",
        "import pandas as pd\n",
        "\n",
        "NUM_EXAMPLE_QUESTIONS = 1\n",
        "example = np.zeros(NUM_EXAMPLE_QUESTIONS,int)\n",
        "\n",
        "NUM_QUESTIONS = 6\n",
        "myanswer = np.zeros(NUM_QUESTIONS,int)"
      ],
      "execution_count": null,
      "outputs": []
    },
    {
      "cell_type": "markdown",
      "metadata": {
        "id": "_Jx-kQ9n8Pyr"
      },
      "source": [
        "### 回答方法\n",
        "それぞれの$\\fbox{　(　)　}$に当てはまるものとして最も適切なものを1つずつ選んでください。\n",
        "\n",
        "**例題**\n",
        "\n",
        "「AIエンジニアリング実践」の講義では、AIを効果的に活用するためには$\\fbox{　(0)　}$が重要であり、座学と演習を通してAIシステムの構築と改善に必要な技術的知識を学び、実践できることを目的とする。\n",
        "\n",
        "1. モデルの中身の理解\n",
        "2. 幅広いエンジニアリングの知識\n",
        "3. 理論的な数学知識\n",
        "4. マーケティング戦略\n",
        "\n",
        "正しい回答を「幅広いエンジニアリングの知識」とすると、以下のように0番目に2を数字で回答します。"
      ]
    },
    {
      "cell_type": "markdown",
      "metadata": {
        "id": "_rtiLn6Y8Pys"
      },
      "source": [
        "```python\n",
        "example[0] = 2\n",
        "\n",
        "```"
      ]
    },
    {
      "cell_type": "markdown",
      "metadata": {
        "id": "1772jOC68Pys"
      },
      "source": [
        "### 確認クイズ"
      ]
    },
    {
      "cell_type": "markdown",
      "metadata": {
        "id": "mQbqua-B8Pyt"
      },
      "source": [
        "**Q1　クラウドを利用する際にクラウドの利点を最も引き出すことのできる選択肢を1つ選べ**\n",
        "\n",
        "1. オンプレミスで使っていた VM 構成をそのまま 仮想サーバ(EC2)に移行し、運用手順も踏襲する\n",
        "2. ベンダーロックインを避けるため RDS や DynamoDB などのマネージド DB を使わず、コンテナ内に自前でミドルウェアを構築・保守する\n",
        "3. マネージドサービスを積極的に活用し、可用性や拡張性などのインフラ要素をクラウドプロバイダーに任せることで、ビジネス価値の創出に集中する。\n",
        "4. スモールスタートのために EC2 1台を構築し、そこに全ての機能を集約して運用する。\n",
        "\n",
        "\n",
        "回答: $\\fbox{　(0)　}$\n",
        "\n",
        "\\\n",
        "**Q2　サーバレスアーキテクチャを採用する際の利点と欠点について適切に述べている選択肢を1つ選べ**\n",
        "\n",
        "1. インフラを意識せず自動スケールと従量課金のメリットを得られる一方、複数のマネージドサービスを組み合わせるため、各サービス固有の仕様や制限を理解して、適切に設計・運用する必要がある\n",
        "2. 初期学習コストはゼロで構成も単純になり、どのようなアプリでもコードを書き換えずにそのままサーバレス化できるが、長期的に利用を続ける場合の運用コストが高い\n",
        "3. 月額固定料金で予算が立てやすく、長時間かつ状態保持型のジョブにも制約なく適しているが、インフラのパッチ適用は開発者側で行う必要がある\n",
        "4. OS カーネルやハードウェアを自由にチューニングできるため様々な性能要件に対応できるが、柔軟であるがゆえにユーザー側の設計負荷が大きい\n",
        "\n",
        "\n",
        "回答: $\\fbox{　(1)　}$\n",
        "\n",
        "\\\n",
        "**Q3　クラウドを利用する際のセキュリティに関する考え方/対応として誤っているものを1つ選べ**\n",
        "\n",
        "1. AWSの責任共有モデルなどに示されるように、クラウドベンダーがデータセンタやハイパーバイザを保護する一方で、アクセス権・アプリケーション・保有データの管理などはユーザー責任となるため、自組織で適切なセキュリティ対策を実装する必要がある\n",
        "2. ネットワーク ACL、WAF など多層防御を組み合わせて不要なアクセス経路を遮断する\n",
        "3. クラウドリソースへのアクセス権限は最小権限の原則に基づき、必要最低限の権限（ロール/ポリシー）をユーザに付与するよう設計・運用する\n",
        "4. セキュリティについてはクラウド側で適切に管理/担保されているため、ユーザー側で考慮する必要はない\n",
        "\n",
        "\n",
        "回答: $\\fbox{　(2)　}$\n",
        "\n",
        "\\\n",
        "**Q4　クラウド上で作成するリソースの管理方法として継続的な運用/複数人での開発を考えた際に最も適切な選択肢を1つ選べ**\n",
        "\n",
        "1. 管理コンソールで必要なときに手動でリソースを作成・変更し、設定内容は Wiki にスクリーンショットを貼って共有する\n",
        "2. 管理者 PC から ad‑hoc に AWS CLI コマンドを実行して作成し、コマンド履歴はシェルのヒストリに残す\n",
        "3. CloudFormation / CDK / Terraform などの IaC ツールを利用してリソース定義をコード化し、 GitHub 等のリポジトリ上でバージョン管理/レビュー/共有する\n",
        "4. 主要リソースの名前を \"prod‑YYYYMMDD\" の形式で統一し、最新かどうかは命名規則と担当者の記憶で判別する\n",
        "\n",
        "\n",
        "回答: $\\fbox{　(3)　}$\n",
        "\n",
        "\\\n",
        "**Q5　デプロイした環境にアクセスしたところ Internal Error が発生した。原因をデバッグする方法として最も不適切なものを1つ選べ**\n",
        "\n",
        "1. CloudWatch Logs でエラー発生時のログを検索・分析し、エラー発生時の状況を確認する\n",
        "2. CloudWatch メトリクスを確認し、エラー発生時のリソース使用率やエラーカウントなどの異常パターンを絞り込む\n",
        "3. CloudFormation のデプロイ履歴と Git 差分を確認し、直近のリリース内容からエラー発生箇所を推定する\n",
        "4. AWS コンソールを開き、関連がありそうなリソースの設定画面を手当たり次第にクリックして確認し、どこに問題があるかを探す\n",
        "\n",
        "\n",
        "回答: $\\fbox{　(4)　}$\n",
        "\n",
        "\\\n",
        "**Q6　アプリケーションのレスポンスが低下した際、性能チューニングを行う進め方として最も適切な選択肢を選べ**\n",
        "\n",
        "1. システム内の全てのインスタンスをより高性能なインスタンスタイプに置き換え、処理能力を向上させる。\n",
        "2. Auto Scaling の閾値を引き上げてインスタンス数を増やし、負荷を分散させる。\n",
        "3. まず、メトリクスと分散トレースなどを用いてシステム全体のどこがボトルネックであるかを特定する。その上で対象コンポーネントに適したチューニングを実施する\n",
        "4. コードを全面的に書き直すリファクタリング期間を確保し、リリース後に問題が改善したかを確認する\n",
        "\n",
        "\n",
        "回答: $\\fbox{　(5)　}$\n",
        "\n"
      ]
    },
    {
      "cell_type": "code",
      "metadata": {
        "id": "UbUB8ge78Pyt"
      },
      "source": [
        "myanswer[0] = # WRITE ME\n",
        "myanswer[1] = # WRITE ME\n",
        "myanswer[2] = # WRITE ME\n",
        "myanswer[3] = # WRITE ME\n",
        "myanswer[4] = # WRITE ME\n",
        "myanswer[5] = # WRITE ME"
      ],
      "execution_count": null,
      "outputs": []
    },
    {
      "cell_type": "markdown",
      "metadata": {
        "id": "6atJgxzDzX8l"
      },
      "source": [
        "**以下のコードは修正しないでください**"
      ]
    },
    {
      "cell_type": "code",
      "source": [
        "if not np.any(myanswer==0):\n",
        "    submission = pd.Series(myanswer, name='label')\n",
        "    submission.to_csv('/content/submission_pred.csv', header=True, index_label='id')\n",
        "else:\n",
        "    print('Error: please answer all of the questions')"
      ],
      "metadata": {
        "id": "bzBjejdRx3A_"
      },
      "execution_count": null,
      "outputs": []
    },
    {
      "cell_type": "code",
      "source": [],
      "metadata": {
        "id": "08GmEUFKyPOd"
      },
      "execution_count": null,
      "outputs": []
    }
  ]
}